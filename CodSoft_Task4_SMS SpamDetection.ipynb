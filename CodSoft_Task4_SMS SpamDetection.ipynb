{
 "cells": [
  {
   "cell_type": "code",
   "execution_count": 1,
   "id": "863a6143",
   "metadata": {},
   "outputs": [],
   "source": [
    "# Import necessary libraries\n",
    "import pandas as pd\n",
    "import numpy as np\n",
    "import seaborn as sns\n",
    "import matplotlib.pyplot as plt\n",
    "import re\n",
    "import nltk\n",
    "from nltk.corpus import stopwords\n",
    "from sklearn.model_selection import train_test_split\n",
    "from sklearn.feature_extraction.text import TfidfVectorizer\n",
    "\n",
    "from tensorflow.keras.preprocessing.text import Tokenizer\n",
    "from tensorflow.keras.preprocessing.sequence import pad_sequences\n",
    "\n",
    "from tensorflow.keras.models import Sequential\n",
    "from tensorflow.keras.layers import Dense, Flatten, Dropout, Embedding\n",
    "from tensorflow.keras.callbacks import EarlyStopping\n",
    "\n",
    "from sklearn.metrics import confusion_matrix, classification_report, accuracy_score"
   ]
  },
  {
   "cell_type": "code",
   "execution_count": 2,
   "id": "e2a2e86c",
   "metadata": {
    "scrolled": true
   },
   "outputs": [
    {
     "data": {
      "text/html": [
       "<div>\n",
       "<style scoped>\n",
       "    .dataframe tbody tr th:only-of-type {\n",
       "        vertical-align: middle;\n",
       "    }\n",
       "\n",
       "    .dataframe tbody tr th {\n",
       "        vertical-align: top;\n",
       "    }\n",
       "\n",
       "    .dataframe thead th {\n",
       "        text-align: right;\n",
       "    }\n",
       "</style>\n",
       "<table border=\"1\" class=\"dataframe\">\n",
       "  <thead>\n",
       "    <tr style=\"text-align: right;\">\n",
       "      <th></th>\n",
       "      <th>v1</th>\n",
       "      <th>v2</th>\n",
       "    </tr>\n",
       "  </thead>\n",
       "  <tbody>\n",
       "    <tr>\n",
       "      <th>0</th>\n",
       "      <td>ham</td>\n",
       "      <td>Go until jurong point, crazy.. Available only ...</td>\n",
       "    </tr>\n",
       "    <tr>\n",
       "      <th>1</th>\n",
       "      <td>ham</td>\n",
       "      <td>Ok lar",
       " then Joking wif u oni</td>\n",
       "    </tr>\n",
       "    <tr>\n",
       "      <th>2</th>\n",
       "      <td>spam</td>\n",
       "      <td>Free entry in 2 a wkly comp to win FA Cup fina...</td>\n",
       "    </tr>\n",
       "    <tr>\n",
       "      <th>3</th>\n",
       "      <td>ham</td>\n",
       "      <td>U dun say so early hor... U c already then say...</td>\n",
       "    </tr>\n",
       "    <tr>\n",
       "      <th>4</th>\n",
       "      <td>ham</td>\n",
       "      <td>Nah I don't think he goes to usf, he lives aro...</td>\n",
       "    </tr>\n",
       "  </tbody>\n",
       "</table>\n",
       "</div>"
      ],
      "text/plain": [
       "     v1                                                 v2\n",
       "0   ham  Go until jurong point, crazy.. Available only ...\n",
       "1   ham                     Ok lar\n",
       " then Joking wif u oni\n",
       "\n",
       "2  spam  Free entry in 2 a wkly comp to win FA Cup fina...\n",
       "3   ham  U dun say so early hor... U c already then say...\n",
       "4   ham  Nah I don't think he goes to usf, he lives aro..."
      ]
     },
     "execution_count": 2,
     "metadata": {},
     "output_type": "execute_result"
    }
   ],
   "source": [
    "# Importing the data\n",
    "\n",
    "df = pd.read_csv(\"./spam-ham v2.csv\", encoding='latin1')\n",
    "df.head()"
   ]
  },
  {
   "cell_type": "code",
   "execution_count": 3,
   "id": "67ed6a62",
   "metadata": {},
   "outputs": [],
   "source": [
    "# renaming column names\n",
    "\n",
    "df.rename(columns = {\"v1\":\"Output\", \"v2\":\"text\"}, inplace=True)"
   ]
  },
  {
   "cell_type": "code",
   "execution_count": 4,
   "id": "fe5aa4ee",
   "metadata": {},
   "outputs": [
    {
     "data": {
      "text/plain": [
       "Output    object\n",
       "text      object\n",
       "dtype: object"
      ]
     },
     "execution_count": 4,
     "metadata": {},
     "output_type": "execute_result"
    }
   ],
   "source": [
    "# Checking Data types\n",
    "\n",
    "df.dtypes"
   ]
  },
  {
   "cell_type": "code",
   "execution_count": 5,
   "id": "956e3f76",
   "metadata": {},
   "outputs": [
    {
     "data": {
      "text/plain": [
       "Output    0\n",
       "text      0\n",
       "dtype: int64"
      ]
     },
     "execution_count": 5,
     "metadata": {},
     "output_type": "execute_result"
    }
   ],
   "source": [
    "# Checking for null values\n",
    "\n",
    "df.isnull().sum()"
   ]
  },
  {
   "cell_type": "code",
   "execution_count": 6,
   "id": "6e40eaa4",
   "metadata": {},
   "outputs": [],
   "source": [
    "# Mapping Output values --> 1 if Spam, 0 if Ham\n",
    "\n",
    "df['Output'] = np.where(df['Output']=='spam', 1, 0)"
   ]
  },
  {
   "cell_type": "code",
   "execution_count": 7,
   "id": "a68a910f",
   "metadata": {},
   "outputs": [
    {
     "data": {
      "text/plain": [
       "Output\n",
       "0    4825\n",
       "1     747\n",
       "Name: count, dtype: int64"
      ]
     },
     "execution_count": 7,
     "metadata": {},
     "output_type": "execute_result"
    }
   ],
   "source": [
    "# Value Counts of Output\n",
    "\n",
    "df.Output.value_counts()"
   ]
  },
  {
   "cell_type": "code",
   "execution_count": null,
   "id": "79a75795",
   "metadata": {},
   "outputs": [],
   "source": [
    "# As the data is already cleaned, there is no further cleaning required.\n",
    "\n",
    "# Create a function to clean the data\n",
    "\n",
    "stemmer = nltk.SnowballStemmer(\"english\")\n",
    "stopword = set(stopwords.words('english'))\n",
    "\n",
    "def clean(text):\n",
    "    text = str(text).lower()\n",
    "    text = re.sub(r'[^\\d\\w\\s]', '', text)\n",
    "    text = re.sub('https:?\\\\S+ | www\\.\\S+', '', text)\n",
    "    text = re.sub('\\n', '', text)\n",
    "    text = re.sub('\\w*\\d\\w*', '', text)\n",
    "    text = [word for word in text.split(' ') if word not in stopword]\n",
    "    text = \" \".join(text)\n",
    "    text = [stemmer.stem(word) for word in text.split(' ')]\n",
    "    text = \" \".join(text)\n",
    "    \n",
    "    return(text)\n",
    "\n",
    "# Applying the function on 'text' to remove the stopwords, spaces, symbols, numbers, etc \n",
    "\n",
    "df[\"text\"] = df[\"text\"].apply(clean)"
   ]
  },
  {
   "cell_type": "code",
   "execution_count": 8,
   "id": "6175d100",
   "metadata": {},
   "outputs": [],
   "source": [
    "# Split the data into X and y\n",
    "X = df['text'].values\n",
    "y = df['Output'].values\n",
    "\n",
    "# Split the data into train and test data\n",
    "x_train, x_test, y_train, y_test = train_test_split(X, y, test_size=0.2, random_state=42)"
   ]
  },
  {
   "cell_type": "code",
   "execution_count": 9,
   "id": "a4ba36a1",
   "metadata": {},
   "outputs": [],
   "source": [
    "# Instantiate Tokenizer()\n",
    "# You should not apply fit_on_texts to your test data.\n",
    "\n",
    "tok = Tokenizer()\n",
    "tok.fit_on_texts(x_train)"
   ]
  },
  {
   "cell_type": "code",
   "execution_count": 10,
   "id": "ee36360a",
   "metadata": {},
   "outputs": [
    {
     "name": "stdout",
     "output_type": "stream",
     "text": [
      "[[38, 30, 8, 5, 275, 1995, 80, 117, 26, 11, 1660, 323, 10, 53, 18, 302, 30, 349, 1996], [802, 15, 2564, 1446, 1133, 193, 2565, 172, 12, 100, 1997, 44, 196, 1661, 2566, 1998, 2567, 21, 9, 4, 204, 1033, 226]]\n"
     ]
    }
   ],
   "source": [
    "# texts_to_sequences can be used on any text to have it automatically encoded as integers based on the learned vocabulary.\n",
    "\n",
    "encoded_train = tok.texts_to_sequences(x_train)\n",
    "encoded_test = tok.texts_to_sequences(x_test)\n",
    "print(encoded_train[0:2])"
   ]
  },
  {
   "cell_type": "code",
   "execution_count": 11,
   "id": "74753bc9",
   "metadata": {},
   "outputs": [
    {
     "name": "stdout",
     "output_type": "stream",
     "text": [
      "[[ 323   10   53 ...   30  349 1996]\n",
      " [1998 2567   21 ...  204 1033  226]\n",
      " [  83 1447    4 ...    2 3805 3806]\n",
      " ...\n",
      " [1482   30 2069 ...  241   30 2070]\n",
      " [ 765 1682 1165 ...    0    0    0]\n",
      " [   8  155   20 ...    8  291  176]]\n"
     ]
    }
   ],
   "source": [
    "# pad documents to a max length of words\n",
    "#You must pad each text such that they are all the same length. Because DL models, expect the input to be in same shape.\n",
    "\n",
    "max_length = 8\n",
    "padded_train = pad_sequences(encoded_train, maxlen= max_length, padding = 'post')\n",
    "padded_test = pad_sequences(encoded_test, maxlen= max_length, padding = 'post')\n",
    "print(padded_train)"
   ]
  },
  {
   "cell_type": "code",
   "execution_count": 12,
   "id": "ecc29c56",
   "metadata": {},
   "outputs": [],
   "source": [
    "# Now, text data is in numeric form, you can feed it into a model and start training."
   ]
  },
  {
   "cell_type": "code",
   "execution_count": 13,
   "id": "49caa691",
   "metadata": {},
   "outputs": [
    {
     "name": "stdout",
     "output_type": "stream",
     "text": [
      "Model: \"sequential\"\n",
      "_________________________________________________________________\n",
      " Layer (type)                Output Shape              Param #   \n",
      "=================================================================\n",
      " embedding (Embedding)       (None, 8, 24)             192744    \n",
      "                                                                 \n",
      " flatten (Flatten)           (None, 192)               0         \n",
      "                                                                 \n",
      " dense (Dense)               (None, 500)               96500     \n",
      "                                                                 \n",
      " dense_1 (Dense)             (None, 250)               125250    \n",
      "                                                                 \n",
      " dropout (Dropout)           (None, 250)               0         \n",
      "                                                                 \n",
      " dense_2 (Dense)             (None, 100)               25100     \n",
      "                                                                 \n",
      " dense_3 (Dense)             (None, 1)                 101       \n",
      "                                                                 \n",
      "=================================================================\n",
      "Total params: 439695 (1.68 MB)\n",
      "Trainable params: 439695 (1.68 MB)\n",
      "Non-trainable params: 0 (0.00 Byte)\n",
      "_________________________________________________________________\n",
      "None\n"
     ]
    }
   ],
   "source": [
    "# Define the model (or) Create an instance of Sequential model and add layers and activation functions\n",
    "# Embedding layers helps to map high dimension text data to low dimension features that can be easily trained.\n",
    "# A Sigmoid layer is added as the final layer, because this is a binary classification problem.\n",
    "\n",
    "vocab_size = len(tok.word_index) + 1\n",
    "\n",
    "model = Sequential()\n",
    "model.add(Embedding(vocab_size, 24, input_length=max_length))\n",
    "model.add(Flatten())\n",
    "model.add(Dense(500, activation='relu'))\n",
    "model.add(Dense(250, activation='relu'))\n",
    "model.add(Dropout(0.5))\n",
    "model.add(Dense(100, activation='relu'))\n",
    "model.add(Dense(1, activation='sigmoid'))\n",
    "\n",
    "# Compile the model\n",
    "\n",
    "model.compile(loss='binary_crossentropy', optimizer='adam', metrics=['accuracy'])\n",
    "\n",
    "# Summarize the model\n",
    "\n",
    "print(model.summary())"
   ]
  },
  {
   "cell_type": "code",
   "execution_count": 14,
   "id": "5474f4e7",
   "metadata": {},
   "outputs": [
    {
     "name": "stdout",
     "output_type": "stream",
     "text": [
      "Epoch 1/50\n",
      "140/140 [==============================] - 3s 9ms/step - loss: 0.2437 - accuracy: 0.8997 - val_loss: 0.0995 - val_accuracy: 0.9812\n",
      "Epoch 2/50\n",
      "140/140 [==============================] - 1s 8ms/step - loss: 0.0264 - accuracy: 0.9926 - val_loss: 0.0733 - val_accuracy: 0.9821\n",
      "Epoch 3/50\n",
      "140/140 [==============================] - 1s 8ms/step - loss: 0.0026 - accuracy: 0.9996 - val_loss: 0.1127 - val_accuracy: 0.9821\n",
      "Epoch 4/50\n",
      "140/140 [==============================] - 1s 8ms/step - loss: 1.7642e-04 - accuracy: 1.0000 - val_loss: 0.1282 - val_accuracy: 0.9812\n",
      "Epoch 5/50\n",
      "140/140 [==============================] - 1s 8ms/step - loss: 8.7738e-05 - accuracy: 1.0000 - val_loss: 0.1370 - val_accuracy: 0.9812\n",
      "Epoch 6/50\n",
      "140/140 [==============================] - 1s 8ms/step - loss: 3.7347e-05 - accuracy: 1.0000 - val_loss: 0.1432 - val_accuracy: 0.9812\n",
      "Epoch 7/50\n",
      "140/140 [==============================] - 1s 8ms/step - loss: 3.6714e-05 - accuracy: 1.0000 - val_loss: 0.1476 - val_accuracy: 0.9812\n",
      "Epoch 8/50\n",
      "140/140 [==============================] - 1s 8ms/step - loss: 2.6966e-05 - accuracy: 1.0000 - val_loss: 0.1516 - val_accuracy: 0.9812\n",
      "Epoch 9/50\n",
      "140/140 [==============================] - 1s 8ms/step - loss: 1.6432e-05 - accuracy: 1.0000 - val_loss: 0.1552 - val_accuracy: 0.9812\n",
      "Epoch 10/50\n",
      "140/140 [==============================] - 1s 8ms/step - loss: 1.3767e-05 - accuracy: 1.0000 - val_loss: 0.1585 - val_accuracy: 0.9812\n",
      "Epoch 11/50\n",
      "140/140 [==============================] - 1s 8ms/step - loss: 1.3286e-05 - accuracy: 1.0000 - val_loss: 0.1610 - val_accuracy: 0.9821\n",
      "Epoch 12/50\n",
      "140/140 [==============================] - 1s 8ms/step - loss: 1.2081e-05 - accuracy: 1.0000 - val_loss: 0.1639 - val_accuracy: 0.9821\n",
      "Epoch 12: early stopping\n"
     ]
    },
    {
     "data": {
      "text/plain": [
       "<keras.src.callbacks.History at 0x27090850>"
      ]
     },
     "execution_count": 14,
     "metadata": {},
     "output_type": "execute_result"
    }
   ],
   "source": [
    "# The model trains for a number of epochs before stopping since it is no longer improving.\n",
    "# This is made possible by the early stopping callback\n",
    "\n",
    "early_stop = EarlyStopping(monitor='val_loss', mode='min', verbose=1, patience =10)\n",
    "\n",
    "# fit the model\n",
    "model.fit(x = padded_train, y = y_train, epochs=50, validation_data = (padded_test, y_test), verbose=1,\n",
    "         callbacks = [early_stop])"
   ]
  },
  {
   "cell_type": "code",
   "execution_count": null,
   "id": "2518a453",
   "metadata": {},
   "outputs": [],
   "source": []
  },
  {
   "cell_type": "code",
   "execution_count": 15,
   "id": "f7f58728",
   "metadata": {},
   "outputs": [
    {
     "name": "stdout",
     "output_type": "stream",
     "text": [
      "35/35 [==============================] - 0s 2ms/step\n",
      "Accuracy score:  0.9820627802690582\n",
      "Confusion matrix: \n",
      " [[963   2]\n",
      " [ 18 132]]\n",
      "Classification report: \n",
      "               precision    recall  f1-score   support\n",
      "\n",
      "           0       0.98      1.00      0.99       965\n",
      "           1       0.99      0.88      0.93       150\n",
      "\n",
      "    accuracy                           0.98      1115\n",
      "   macro avg       0.98      0.94      0.96      1115\n",
      "weighted avg       0.98      0.98      0.98      1115\n",
      "\n"
     ]
    }
   ],
   "source": [
    "#Model Evaluation \n",
    "\n",
    "# Using a threshold of 0.5, means that any predicted probability greater than 0.5 makes the prediction 1, else 0.\n",
    "\n",
    "# Predict the labels of the test set\n",
    "y_pred = (model.predict(padded_test) > 0.5).astype(\"int32\")\n",
    "\n",
    "# Print the accuracy score of the optimized model\n",
    "print('Accuracy score: ', accuracy_score(y_test, y_pred))\n",
    "\n",
    "# Print the confusion matrix of the optimized model\n",
    "conf_mat = confusion_matrix(y_test, y_pred)\n",
    "print('Confusion matrix: \\n', conf_mat)\n",
    "\n",
    "# Print the classification report of the optimized model\n",
    "class_report = classification_report(y_test, y_pred)\n",
    "print('Classification report: \\n', class_report)"
   ]
  },
  {
   "cell_type": "code",
   "execution_count": 16,
   "id": "f87d153c",
   "metadata": {},
   "outputs": [
    {
     "data": {
      "image/png": "[encoded data removed]",
      "text/plain": [
       "<Figure size 640x480 with 2 Axes>"
      ]
     },
     "metadata": {},
     "output_type": "display_data"
    }
   ],
   "source": [
    "sns.heatmap(confusion_matrix(y_test, y_pred), annot=True, fmt='d', cmap = 'Blues')\n",
    "plt.show()"
   ]
  },
  {
   "cell_type": "code",
   "execution_count": 17,
   "id": "3c165ea3",
   "metadata": {},
   "outputs": [
    {
     "data": {
      "text/html": [
       "<div>\n",
       "<style scoped>\n",
       "    .dataframe tbody tr th:only-of-type {\n",
       "        vertical-align: middle;\n",
       "    }\n",
       "\n",
       "    .dataframe tbody tr th {\n",
       "        vertical-align: top;\n",
       "    }\n",
       "\n",
       "    .dataframe thead th {\n",
       "        text-align: right;\n",
       "    }\n",
       "</style>\n",
       "<table border=\"1\" class=\"dataframe\">\n",
       "  <thead>\n",
       "    <tr style=\"text-align: right;\">\n",
       "      <th></th>\n",
       "      <th>Output</th>\n",
       "      <th>text</th>\n",
       "    </tr>\n",
       "  </thead>\n",
       "  <tbody>\n",
       "    <tr>\n",
       "      <th>0</th>\n",
       "      <td>0</td>\n",
       "      <td>Go until jurong point, crazy.. Available only ...</td>\n",
       "    </tr>\n",
       "    <tr>\n",
       "      <th>1</th>\n",
       "      <td>0</td>\n",
       "      <td>Ok lar",
       " then Joking wif u oni</td>\n",
       "    </tr>\n",
       "    <tr>\n",
       "      <th>2</th>\n",
       "      <td>1</td>\n",
       "      <td>Free entry in 2 a wkly comp to win FA Cup fina...</td>\n",
       "    </tr>\n",
       "    <tr>\n",
       "      <th>3</th>\n",
       "      <td>0</td>\n",
       "      <td>U dun say so early hor... U c already then say...</td>\n",
       "    </tr>\n",
       "    <tr>\n",
       "      <th>4</th>\n",
       "      <td>0</td>\n",
       "      <td>Nah I don't think he goes to usf, he lives aro...</td>\n",
       "    </tr>\n",
       "  </tbody>\n",
       "</table>\n",
       "</div>"
      ],
      "text/plain": [
       "   Output                                               text\n",
       "0       0  Go until jurong point, crazy.. Available only ...\n",
       "1       0                     Ok lar\n",
       " then Joking wif u oni\n",
       "\n",
       "2       1  Free entry in 2 a wkly comp to win FA Cup fina...\n",
       "3       0  U dun say so early hor... U c already then say...\n",
       "4       0  Nah I don't think he goes to usf, he lives aro..."
      ]
     },
     "execution_count": 17,
     "metadata": {},
     "output_type": "execute_result"
    }
   ],
   "source": [
    "df.head(5)"
   ]
  },
  {
   "cell_type": "code",
   "execution_count": 18,
   "id": "5c392c96",
   "metadata": {},
   "outputs": [
    {
     "name": "stdout",
     "output_type": "stream",
     "text": [
      "1/1 [==============================] - 0s 20ms/step\n",
      "0\n",
      "Ham Message\n"
     ]
    }
   ],
   "source": [
    "# Test the model with some custom email messages\n",
    "\n",
    "input_msg = [\"Go until jurong point, crazy.. Available only ..\"]\n",
    "#tok = Tokenizer()\n",
    "#tok.fit_on_texts(input_msg)\n",
    "input_data_features = tok.texts_to_sequences(input_msg)\n",
    "input_data_features = pad_sequences(input_data_features, maxlen=max_length, padding='post')\n",
    "prediction = model.predict(input_data_features).astype(\"int32\").item()\n",
    "print(prediction)\n",
    "\n",
    "if prediction == 1:\n",
    "    print(\"Spam Message\")\n",
    "else:\n",
    "    print(\"Ham Message\")"
   ]
  },
  {
   "cell_type": "code",
   "execution_count": null,
   "id": "d527f181",
   "metadata": {},
   "outputs": [],
   "source": []
  }
 ],
 "metadata": {
  "kernelspec": {
   "display_name": "Python 3 (ipykernel)",
   "language": "python",
   "name": "python3"
  },
  "language_info": {
   "codemirror_mode": {
    "name": "ipython",
    "version": 3
   },
   "file_extension": ".py",
   "mimetype": "text/x-python",
   "name": "python",
   "nbconvert_exporter": "python",
   "pygments_lexer": "ipython3",
   "version": "3.11.4"
  }
 },
 "nbformat": 4,
 "nbformat_minor": 5
}
